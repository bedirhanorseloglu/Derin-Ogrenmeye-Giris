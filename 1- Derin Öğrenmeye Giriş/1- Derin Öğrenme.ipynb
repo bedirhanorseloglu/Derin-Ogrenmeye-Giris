{
 "cells": [
  {
   "cell_type": "markdown",
   "metadata": {},
   "source": [
    "# Derin Öğrenme Nedir?"
   ]
  },
  {
   "cell_type": "markdown",
   "metadata": {},
   "source": [
    "- \"Derin öğrenme, bir süper güçtür. Bununla bir bilgisayarın görmesini sağlayabilir, yeni bir sanat eserini sentezleyebilir, dilleri tercüme edebilir, tıbbi bir teşhis koyabilir veya kendi kendine gidebilecek bir arabanın parçaşarını yapabilirsiniz.\" der Andrew NG\n",
    "- ChatBot'lar, sesli asistanlar, görüntü işleme, nesne tespiti, nesne takibi alanındaki otonom araçlar gibi teknolojilerin arkasında derin öğrenme yer almaktadır.\n",
    "- Daha teknik bir açıklamayla derin öğrenme, insan beyninin veri işleme ve karar verme şeklini referans alan bir makine öğrenmesi alt dalıdır.\n",
    "- Buradaki öğrenme işlemi <span style=\"color:red\">makine öğrenmesi algoritmalarından farklı olarak</span> katmanlar aracılığıyla gerçekleştirilir.\n",
    "- Buradaki \"derin\" kavramı yapay sinir ağlarındaki katmanları ifade eder. Ne kadar fazla katman varsa o kadar derin bir mimariye sahip ysa kullanılıyor denir."
   ]
  }
 ],
 "metadata": {
  "language_info": {
   "name": "python"
  }
 },
 "nbformat": 4,
 "nbformat_minor": 2
}
